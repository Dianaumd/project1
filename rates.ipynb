{
 "cells": [
  {
   "cell_type": "code",
   "execution_count": 12,
   "metadata": {
    "collapsed": true
   },
   "outputs": [],
   "source": [
    "import QuantLib as ql\n",
    "from QuantLib import *\n",
    "from collections import namedtuple\n",
    "import math\n",
    "import matplotlib.pyplot as plt\n",
    "import numpy as np\n",
    "% matplotlib inline"
   ]
  },
  {
   "cell_type": "code",
   "execution_count": 13,
   "metadata": {
    "collapsed": true
   },
   "outputs": [],
   "source": [
    "timestep = 360\n",
    "length = 30 # in years\n",
    "forward_rate = 0.05\n",
    "day_count = ql.Thirty360()\n",
    "todays_date = ql.Date(12, 1, 2018)"
   ]
  },
  {
   "cell_type": "code",
   "execution_count": 17,
   "metadata": {
    "collapsed": true
   },
   "outputs": [],
   "source": [
    "ql.Settings.instance().evaluationDate = todays_date\n",
    "\n",
    "spot_curve = ql.FlatForward(todays_date, ql.QuoteHandle(ql.SimpleQuote(forward_rate)), day_count)\n",
    "spot_curve_handle = ql.YieldTermStructureHandle(spot_curve)"
   ]
  },
  {
   "cell_type": "code",
   "execution_count": 22,
   "metadata": {},
   "outputs": [],
   "source": [
    "today = todays_date\n",
    "calendar = TARGET()\n",
    "settlement = ql.Date(12, ql.January, 2018);\n",
    "ql.Settings.instance().evaluationDate = today;\n",
    "term_structure = ql.YieldTermStructureHandle(ql.FlatForward(settlement,0.04875825,ql.Actual365Fixed()))\n",
    "index = ql.Euribor1Y(term_structure)"
   ]
  },
  {
   "cell_type": "code",
   "execution_count": 34,
   "metadata": {},
   "outputs": [
    {
     "ename": "NameError",
     "evalue": "name 'libor' is not defined",
     "output_type": "error",
     "traceback": [
      "\u001b[1;31m---------------------------------------------------------------------------\u001b[0m",
      "\u001b[1;31mNameError\u001b[0m                                 Traceback (most recent call last)",
      "\u001b[1;32m<ipython-input-34-ec96da70254c>\u001b[0m in \u001b[0;36m<module>\u001b[1;34m()\u001b[0m\n\u001b[0;32m     71\u001b[0m liborCurve = PiecewiseFlatForward(settlement, helpers,\n\u001b[0;32m     72\u001b[0m                                             Actual360())\n\u001b[1;32m---> 73\u001b[1;33m \u001b[0mprint\u001b[0m\u001b[1;33m(\u001b[0m\u001b[0mlibor\u001b[0m\u001b[1;33m.\u001b[0m\u001b[0mdates\u001b[0m\u001b[1;33m(\u001b[0m\u001b[1;33m)\u001b[0m\u001b[1;33m)\u001b[0m\u001b[1;33m\u001b[0m\u001b[0m\n\u001b[0m\u001b[0;32m     74\u001b[0m \u001b[1;32mfor\u001b[0m \u001b[0mc\u001b[0m \u001b[1;32min\u001b[0m \u001b[0mlibor\u001b[0m\u001b[1;33m.\u001b[0m\u001b[0mdates\u001b[0m\u001b[1;33m(\u001b[0m\u001b[1;33m)\u001b[0m\u001b[1;33m:\u001b[0m\u001b[1;33m\u001b[0m\u001b[0m\n\u001b[0;32m     75\u001b[0m \u001b[1;31m#    print(libor.discount(c))\u001b[0m\u001b[1;33m\u001b[0m\u001b[1;33m\u001b[0m\u001b[0m\n",
      "\u001b[1;31mNameError\u001b[0m: name 'libor' is not defined"
     ]
    }
   ],
   "source": [
    "cash = {     (1,Weeks): 0.0023,\n",
    "             (1,Months): 0.0023,\n",
    "             (3,Months): 0.0023,\n",
    "             (6,Months): 0.0023}\n",
    "futures = { Date(21,3,2018): 99.765,\n",
    "            Date(20,6,2018): 99.75,\n",
    "            Date(19,9,2018): 99.73,\n",
    "            Date(19,12,2018): 99.69,\n",
    "            Date(20,3,2019): 99.605,\n",
    "            Date(19,6,2019): 99.47,\n",
    "            Date(18,9,2019): 99.3,\n",
    "            Date(18,12,2019): 99.085 }\n",
    "swaps = { (3,Years): 0.0079,\n",
    "          (4,Years): 0.012,\n",
    "          (5,Years): 0.0157,\n",
    "          (6,Years): 0.01865,\n",
    "          (7,Years): 0.0216,\n",
    "          (8,Years): 0.0235,\n",
    "          (9,Years): 0.0254,\n",
    "          (10,Years): 0.0273,\n",
    "          (15,Years): 0.0297,\n",
    "          (20,Years): 0.0316,\n",
    "          (25,Years): 0.0335,\n",
    "          (30,Years): 0.0354}\n",
    "\n",
    "for n,unit in cash.keys():\n",
    "    cash[(n,unit)] = SimpleQuote(cash[(n,unit)])\n",
    "for d in futures.keys():\n",
    "    futures[d] = SimpleQuote(futures[d])\n",
    "for n,unit in swaps.keys():\n",
    "    swaps[(n,unit)] = SimpleQuote(swaps[(n,unit)])\n",
    "    \n",
    "\n",
    "dayCounter = Actual360()\n",
    "settlementDays = 2\n",
    "cashHelpers = [ DepositRateHelper(QuoteHandle(cash[(n,unit)]),\n",
    "                                     Period(n,unit), settlementDays,\n",
    "                                     calendar, ModifiedFollowing,\n",
    "                                     False, dayCounter)\n",
    "                   for n, unit in [(1,Weeks),(1,Months),(3,Months),\n",
    "                                   (6,Months)] ]\n",
    "\n",
    "dayCounter = Actual360()\n",
    "months = 3\n",
    "futuresHelpers = [ FuturesRateHelper(QuoteHandle(futures[d]),\n",
    "                                     d, months,\n",
    "                                     calendar, ModifiedFollowing,\n",
    "                                     True, dayCounter,\n",
    "                                     QuoteHandle(SimpleQuote(0.0)))\n",
    "                   for d in futures.keys() ]\n",
    "\n",
    "settlementDays = 2\n",
    "fixedLegFrequency = Semiannual\n",
    "fixedLegTenor = Period(6,Months)\n",
    "fixedLegAdjustment = Unadjusted\n",
    "fixedLegDayCounter = Thirty360()\n",
    "floatingLegFrequency = Quarterly\n",
    "floatingLegTenor = Period(3,Months)\n",
    "floatingLegAdjustment = ModifiedFollowing\n",
    "swapHelpers = [ SwapRateHelper(QuoteHandle(swaps[(n,unit)]),\n",
    "                               Period(n,unit), calendar,\n",
    "                               fixedLegFrequency, fixedLegAdjustment,\n",
    "                               fixedLegDayCounter, Euribor3M())\n",
    "                for n, unit in swaps.keys() ]\n",
    "\n",
    "\n",
    "discountTermStructure = RelinkableYieldTermStructureHandle()\n",
    "forecastTermStructure = RelinkableYieldTermStructureHandle()\n",
    "\n",
    "helpers = cashHelpers[:2] + futuresHelpers + swapHelpers[1:]\n",
    "liborCurve = PiecewiseFlatForward(settlement, helpers,\n",
    "                                            Actual360())\n",
    "print(libor.dates())\n",
    "for c in libor.dates():\n",
    "#    print(libor.discount(c))\n",
    "    print(libor.rate(c0))\n"
   ]
  },
  {
   "cell_type": "code",
   "execution_count": 33,
   "metadata": {
    "collapsed": true
   },
   "outputs": [],
   "source": [
    "CalibrationData = namedtuple(\"CalibrationData\", \n",
    "                             \"start, length, volatility\")\n",
    "data = [CalibrationData(1, 5, 0.1148),\n",
    "        CalibrationData(2, 4, 0.1108),\n",
    "        CalibrationData(3, 3, 0.1070),\n",
    "        CalibrationData(4, 2, 0.1021),\n",
    "        CalibrationData(5, 1, 0.1000 )]"
   ]
  },
  {
   "cell_type": "code",
   "execution_count": null,
   "metadata": {},
   "outputs": [],
   "source": [
    "model = ql.BlackKarasinski(term_structure);\n",
    "engine = ql.TreeSwaptionEngine(model, 100)\n",
    "swaptions = create_swaption_helpers(data, index, term_structure, engine)\n",
    "\n",
    "optimization_method = ql.LevenbergMarquardt(1.0e-8,1.0e-8,1.0e-8)\n",
    "end_criteria = ql.EndCriteria(10000, 100, 1e-6, 1e-8, 1e-8)\n",
    "model.calibrate(swaptions, optimization_method, end_criteria)\n",
    "\n",
    "a, sigma =  model.params()\n",
    "print(\"a = %6.5f, sigma = %6.5f\" % (a, sigma))"
   ]
  },
  {
   "cell_type": "code",
   "execution_count": null,
   "metadata": {
    "collapsed": true
   },
   "outputs": [],
   "source": [
    "# <!-- collapse=True -->\n",
    "def create_swaption_helpers(data, index, term_structure, engine):\n",
    "    swaptions = []\n",
    "    fixed_leg_tenor = ql.Period(1, ql.Years)\n",
    "    fixed_leg_daycounter = ql.Actual360()\n",
    "    floating_leg_daycounter = ql.Actual360()\n",
    "    for d in data:\n",
    "        vol_handle = ql.QuoteHandle(ql.SimpleQuote(d.volatility))\n",
    "        helper = ql.SwaptionHelper(ql.Period(d.start, ql.Years),\n",
    "                                   ql.Period(d.length, ql.Years),\n",
    "                                   vol_handle,\n",
    "                                   index,\n",
    "                                   fixed_leg_tenor,\n",
    "                                   fixed_leg_daycounter,\n",
    "                                   floating_leg_daycounter,\n",
    "                                   term_structure\n",
    "                                   )\n",
    "        helper.setPricingEngine(engine)\n",
    "        swaptions.append(helper)\n",
    "    return swaptions    \n",
    "\n",
    "def calibration_report(swaptions, data):\n",
    "    print(\"-\"*82)\n",
    "    print(\"%15s %15s %15s %15s %15s\" % \\\n",
    "    (\"Model Price\", \"Market Price\", \"Implied Vol\", \"Market Vol\", \"Rel Error\"))\n",
    "    print(\"-\"*82)\n",
    "    cum_err = 0.0\n",
    "    for i, s in enumerate(swaptions):\n",
    "        model_price = s.modelValue()\n",
    "        market_vol = data[i].volatility\n",
    "        black_price = s.blackPrice(market_vol)\n",
    "        rel_error = model_price/black_price - 1.0\n",
    "        implied_vol = s.impliedVolatility(model_price,\n",
    "                                          1e-5, 50, 0.0, 0.50)\n",
    "        rel_error2 = implied_vol/market_vol-1.0\n",
    "        cum_err += rel_error2*rel_error2\n",
    "        \n",
    "        print(\"%15.5f %15.5f %15.5f %15.5f %15.5f\" % \\\n",
    "        (model_price, black_price, implied_vol, market_vol, rel_error))\n",
    "    print(\"-\"*82)\n",
    "    print(\"Cumulative Error : %15.5f\" % math.sqrt(cum_err))"
   ]
  },
  {
   "cell_type": "code",
   "execution_count": null,
   "metadata": {},
   "outputs": [],
   "source": [
    "calibration_report(swaptions, data)"
   ]
  },
  {
   "cell_type": "code",
   "execution_count": null,
   "metadata": {},
   "outputs": [],
   "source": [
    "bk_process = ql.BlackKarasinski(spot_curve_handle, a, sigma)\n",
    "rng = ql.GaussianRandomSequenceGenerator(ql.UniformRandomSequenceGenerator(timestep, ql.UniformRandomGenerator()))\n",
    "seq = ql.GaussianPathGenerator(bk_process, length, timestep, rng, False)"
   ]
  },
  {
   "cell_type": "code",
   "execution_count": null,
   "metadata": {
    "collapsed": true
   },
   "outputs": [],
   "source": []
  }
 ],
 "metadata": {
  "kernelspec": {
   "display_name": "Python 3",
   "language": "python",
   "name": "python3"
  },
  "language_info": {
   "codemirror_mode": {
    "name": "ipython",
    "version": 3
   },
   "file_extension": ".py",
   "mimetype": "text/x-python",
   "name": "python",
   "nbconvert_exporter": "python",
   "pygments_lexer": "ipython3",
   "version": "3.6.3"
  }
 },
 "nbformat": 4,
 "nbformat_minor": 2
}
